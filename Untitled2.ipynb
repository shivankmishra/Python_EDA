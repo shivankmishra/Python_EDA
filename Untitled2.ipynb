{
 "cells": [
  {
   "cell_type": "code",
   "execution_count": 1,
   "metadata": {},
   "outputs": [
    {
     "name": "stdout",
     "output_type": "stream",
     "text": [
      "True\n"
     ]
    }
   ],
   "source": [
    "s = \"True\"\n",
    "t = True\n",
    "x = (bool(s) == t)\n",
    "print(x)"
   ]
  },
  {
   "cell_type": "code",
   "execution_count": 11,
   "metadata": {},
   "outputs": [],
   "source": [
    "str1 = \"I like to code\"\n",
    "str2 = 3\n",
    "str3 = \" times a day\"\n",
    "\n"
   ]
  },
  {
   "cell_type": "code",
   "execution_count": 12,
   "metadata": {},
   "outputs": [
    {
     "ename": "TypeError",
     "evalue": "can only concatenate str (not \"int\") to str",
     "output_type": "error",
     "traceback": [
      "\u001b[0;31m---------------------------------------------------------------------------\u001b[0m",
      "\u001b[0;31mTypeError\u001b[0m                                 Traceback (most recent call last)",
      "\u001b[0;32m<ipython-input-12-74b68f73d2e5>\u001b[0m in \u001b[0;36m<module>\u001b[0;34m\u001b[0m\n\u001b[0;32m----> 1\u001b[0;31m \u001b[0mprint\u001b[0m\u001b[0;34m(\u001b[0m\u001b[0mstr1\u001b[0m \u001b[0;34m+\u001b[0m \u001b[0mstr2\u001b[0m \u001b[0;34m+\u001b[0m \u001b[0mstr3\u001b[0m\u001b[0;34m)\u001b[0m\u001b[0;34m\u001b[0m\u001b[0;34m\u001b[0m\u001b[0m\n\u001b[0m",
      "\u001b[0;31mTypeError\u001b[0m: can only concatenate str (not \"int\") to str"
     ]
    }
   ],
   "source": [
    "print(str1 + str2 + str3)"
   ]
  },
  {
   "cell_type": "code",
   "execution_count": 21,
   "metadata": {},
   "outputs": [
    {
     "name": "stdout",
     "output_type": "stream",
     "text": [
      "True\n"
     ]
    }
   ],
   "source": [
    "isFalse = True\n",
    "if((\"I like python\" == \"I like PYTHON\") or 10/2 == 5):\n",
    "    if ((10)/2 == (25*4)/20):\n",
    "        print(isFalse)\n",
    "    else :\n",
    "        print(not isFalse)\n",
    "else: print(not isFalse)"
   ]
  },
  {
   "cell_type": "code",
   "execution_count": 20,
   "metadata": {},
   "outputs": [
    {
     "data": {
      "text/plain": [
       "False"
      ]
     },
     "execution_count": 20,
     "metadata": {},
     "output_type": "execute_result"
    }
   ],
   "source": [
    "\"I like python\" == \"I like PYTHON\""
   ]
  },
  {
   "cell_type": "code",
   "execution_count": 26,
   "metadata": {},
   "outputs": [
    {
     "name": "stdout",
     "output_type": "stream",
     "text": [
      "This is week 1's Kahoot problem set\n"
     ]
    }
   ],
   "source": [
    "print(\"This is week 1's Kahoot problem set\")"
   ]
  },
  {
   "cell_type": "code",
   "execution_count": 29,
   "metadata": {},
   "outputs": [
    {
     "name": "stdout",
     "output_type": "stream",
     "text": [
      "2\n"
     ]
    }
   ],
   "source": [
    "if 30/6 == 3+2 and 'True' == True:\n",
    "    print(1)\n",
    "elif 4*9 - 70 /10 ==29:\n",
    "    print(2)\n",
    "elif False != True or 4*2/2 +2 ==6:\n",
    "    print(3)\n"
   ]
  },
  {
   "cell_type": "code",
   "execution_count": 30,
   "metadata": {},
   "outputs": [
    {
     "name": "stdout",
     "output_type": "stream",
     "text": [
      "2\n"
     ]
    }
   ],
   "source": [
    "var1 = True\n",
    "var2 = 36/4*5-15 == 2+4*7\n",
    "if 99/9 <= 40*2/8:\n",
    "    print(1)\n",
    "elif var1 == var2:\n",
    "    print(2)\n",
    "else:\n",
    "    print(3)"
   ]
  },
  {
   "cell_type": "code",
   "execution_count": 33,
   "metadata": {},
   "outputs": [
    {
     "name": "stdout",
     "output_type": "stream",
     "text": [
      "Prints in the if branch!\n",
      "True is not equal to False\n"
     ]
    }
   ],
   "source": [
    "if '4' == 4 or 5.0 == 5:\n",
    "    print(\"Prints in the if branch!\")\n",
    "    if True != False:\n",
    "        print(\"True is not equal to False\")\n",
    "elif (50-8)/7 == 100/25+2:\n",
    "    print (\"Prints in elif branch!\")\n",
    "else:\n",
    "    print(\"Prints in the else branch\")"
   ]
  },
  {
   "cell_type": "code",
   "execution_count": 38,
   "metadata": {},
   "outputs": [
    {
     "name": "stdout",
     "output_type": "stream",
     "text": [
      "Mars will be hit\n",
      "Earth will not be hit\n"
     ]
    }
   ],
   "source": [
    "asteroid_coming = True\n",
    "mars = 44\n",
    "earth = 120\n",
    "if mars/4 >= 10 and asteroid_coming:\n",
    "    print(\"Mars will be hit\")\n",
    "if (mars/22) ** 3 == (earth/40) +5:\n",
    "    print(\"Earth will not be hit\")\n",
    "else:\n",
    "    print(\"Distance has been calculated\")"
   ]
  },
  {
   "cell_type": "code",
   "execution_count": 40,
   "metadata": {},
   "outputs": [
    {
     "name": "stdout",
     "output_type": "stream",
     "text": [
      "Developer Program is here for you :D\n",
      "Developer Program is still here for you ;)\n",
      "Developer Program is here for you\n"
     ]
    }
   ],
   "source": [
    "coding = True\n",
    "hard = False\n",
    "developer = True\n",
    "awesome = True\n",
    "if coding is not hard:\n",
    "    print(\"Developer Program is here for you :D\")\n",
    "if coding is hard or developer is awesome:\n",
    "    print(\"Developer Program is still here for you ;)\")\n",
    "if coding != hard:\n",
    "    print(\"Developer Program is here for you\")"
   ]
  },
  {
   "cell_type": "code",
   "execution_count": null,
   "metadata": {},
   "outputs": [],
   "source": []
  }
 ],
 "metadata": {
  "kernelspec": {
   "display_name": "Python 3",
   "language": "python",
   "name": "python3"
  },
  "language_info": {
   "codemirror_mode": {
    "name": "ipython",
    "version": 3
   },
   "file_extension": ".py",
   "mimetype": "text/x-python",
   "name": "python",
   "nbconvert_exporter": "python",
   "pygments_lexer": "ipython3",
   "version": "3.7.4"
  }
 },
 "nbformat": 4,
 "nbformat_minor": 4
}
